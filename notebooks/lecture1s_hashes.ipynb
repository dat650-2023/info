{
 "cells": [
  {
   "cell_type": "markdown",
   "id": "5d1dd277",
   "metadata": {},
   "source": [
    "# Lecture 1 hashes"
   ]
  },
  {
   "cell_type": "code",
   "execution_count": null,
   "id": "ef05ce3c",
   "metadata": {},
   "outputs": [],
   "source": [
    "#Import statements\n",
    "import hashlib as hasher\n",
    "\n",
    "def hashbits(input):\n",
    "    hash_obj = hasher.sha256()\n",
    "    inputbytes = input.encode()\n",
    "    #print(type(inputbytes))\n",
    "    hash_obj.update(inputbytes)\n",
    "    hashbytes = hash_obj.digest()\n",
    "    return ''.join(f'{x:08b}' for x in hashbytes)\n",
    "\n",
    "def hash(input):\n",
    "    hash_obj = hasher.sha256()\n",
    "    inputbytes = input.encode()\n",
    "    #print(type(inputbytes))\n",
    "    hash_obj.update(inputbytes)\n",
    "    return hash_obj.hexdigest()"
   ]
  },
  {
   "cell_type": "code",
   "execution_count": null,
   "id": "35544db9",
   "metadata": {},
   "outputs": [],
   "source": [
    "print(hashbits(\"hello world!\"))\n",
    "print(hash(\"hello world!\"))"
   ]
  },
  {
   "cell_type": "markdown",
   "id": "37bbdd87",
   "metadata": {},
   "source": [
    "## Exercise 1\n",
    "\n",
    "### Hashes look random but are deterministic:\n",
    "* Try out different hash functions, find out how many bytes/bits they return (sha1, md5, sha512)\n",
    "* Try out hashing the same value twice. Does it give the same result?\n",
    "* Try concatenating a two strings in different orders, do they hash to the same value?\n",
    "* Hash 10 different strings, how many have the first bit 0?\n",
    "* Hash 160 different strings, how many have the first character 0 in hexadecimal representatnion?\n",
    "* Find a different test to check if the hashes are random?"
   ]
  },
  {
   "cell_type": "code",
   "execution_count": null,
   "id": "f416da03",
   "metadata": {},
   "outputs": [],
   "source": [
    "len(hashbits(\"hello world!\"))"
   ]
  },
  {
   "cell_type": "code",
   "execution_count": null,
   "id": "fe48dd72",
   "metadata": {},
   "outputs": [],
   "source": [
    "hashes= []\n",
    "cnt = 0\n",
    "for i in range(0,160):\n",
    "    mystring = \"hello world\" + str(i)\n",
    "    hashes.append(hash(mystring))\n",
    "    if hashes[i][0] == \"0\":\n",
    "        cnt += 1\n",
    "print(cnt)"
   ]
  },
  {
   "cell_type": "markdown",
   "id": "ac097c16",
   "metadata": {},
   "source": [
    "## Exercise 2\n",
    "\n",
    "### Collision resistance\n",
    "1. Compute hashes of differnt strings, until you find one that ends with the same hexadecimal number as the hash of \"*hello world*\". How many did you have to try?\n",
    "2. Compute hashes of different stings, until you have found 2 that end with the same hexdecimal number. How many did you have to try?"
   ]
  },
  {
   "cell_type": "code",
   "execution_count": null,
   "id": "3931d5c3",
   "metadata": {},
   "outputs": [],
   "source": [
    "print(hash(\"hello world\") + \"\\n\")\n",
    "for i in range(1,64):\n",
    "    print(hashes[i])"
   ]
  },
  {
   "cell_type": "markdown",
   "id": "62da38e9",
   "metadata": {},
   "source": [
    "## Exercise 3\n",
    "\n",
    "### Hash chain\n",
    "Below is a stub for Block and Hashlist classes.\n",
    "1. Complete `hash_block`, `add` and `check` functions.\n",
    "2. Create a hash list with 3 or more blocks and show that check works as expected.\n",
    "3. Verify that check detects changes in the data in the list.\n",
    "4. Verify that check detects, if a new Block is inserted somewhere in the list.\n",
    "5. Update the HashList and Block classes:\n",
    "    * Create a dictionary where blocks are stored indexed by their hash\n",
    "    * Update `self.last` to only store the hash of the last block\n",
    "    * Remove the `previous` pointer from the `Block`\n",
    "    * Update the `check` and `add` function to use the dictionary.\n",
    "        Make sure it handles cases where the block is not present.\n"
   ]
  },
  {
   "cell_type": "code",
   "execution_count": null,
   "id": "1be83823",
   "metadata": {},
   "outputs": [],
   "source": [
    "class Block:\n",
    "    def __init__(self, data, previous=None):\n",
    "        self.data = data\n",
    "        if previous is None:\n",
    "            self.previous = None\n",
    "            self.previous_hash = \"\"\n",
    "        else:\n",
    "            self.previous = previous\n",
    "            self.previous_hash = previous.hash\n",
    "        self.hash = self.hash_block()\n",
    "\n",
    "    def hash_block(self):\n",
    "        #add this function\n",
    "        # return the hash of the block as hexadecimal string\n",
    "        return hash(self.data + self.previous_hash)\n",
    "        \n",
    "class HashList:\n",
    "    def __init__(self, genesis_data):\n",
    "        self.last = Block(genesis_data)\n",
    "        \n",
    "    def add(self,data):\n",
    "        #create a new block at the end of the chain and update self.last.\n",
    "        newblock = Block(data, self.last)\n",
    "        self.last = newblock\n",
    "        \n",
    "    def check(self):\n",
    "        #check if all the previous hashes in the list are correct.\n",
    "        #return True or False\n",
    "        currentblock = self.last\n",
    "        while currentblock.previous_hash != \"\":\n",
    "            computedhash = currentblock.previous.hash_block()\n",
    "            if computedhash != currentblock.previous_hash:\n",
    "                return False\n",
    "            currentblock = currentblock.previous\n",
    "        return True"
   ]
  },
  {
   "cell_type": "code",
   "execution_count": null,
   "id": "ee66609b",
   "metadata": {},
   "outputs": [],
   "source": [
    "list = HashList(\"genesis\")"
   ]
  },
  {
   "cell_type": "code",
   "execution_count": null,
   "id": "296fc38e",
   "metadata": {},
   "outputs": [],
   "source": [
    "list.add(\"first\")\n",
    "list.add(\"second\")\n",
    "print(list.last.previous.previous.previous_hash)"
   ]
  },
  {
   "cell_type": "code",
   "execution_count": null,
   "id": "149fdf60",
   "metadata": {},
   "outputs": [],
   "source": [
    "list.check()"
   ]
  },
  {
   "cell_type": "code",
   "execution_count": null,
   "id": "e7426715",
   "metadata": {},
   "outputs": [],
   "source": [
    "list.last.previous.data = \"Second\""
   ]
  },
  {
   "cell_type": "code",
   "execution_count": null,
   "id": "966adc05",
   "metadata": {},
   "outputs": [],
   "source": [
    "list.check()"
   ]
  },
  {
   "cell_type": "code",
   "execution_count": null,
   "id": "3e976287",
   "metadata": {},
   "outputs": [],
   "source": []
  }
 ],
 "metadata": {
  "kernelspec": {
   "display_name": "Python 3 (ipykernel)",
   "language": "python",
   "name": "python3"
  },
  "language_info": {
   "codemirror_mode": {
    "name": "ipython",
    "version": 3
   },
   "file_extension": ".py",
   "mimetype": "text/x-python",
   "name": "python",
   "nbconvert_exporter": "python",
   "pygments_lexer": "ipython3",
   "version": "3.9.5"
  }
 },
 "nbformat": 4,
 "nbformat_minor": 5
}
