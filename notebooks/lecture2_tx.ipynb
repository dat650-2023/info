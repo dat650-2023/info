{
 "cells": [
  {
   "cell_type": "markdown",
   "id": "78ed85ac",
   "metadata": {},
   "source": [
    "# Lecture 2 Transactions"
   ]
  },
  {
   "cell_type": "markdown",
   "id": "2d4a1ef6",
   "metadata": {},
   "source": [
    "## Exercise 1: Digital signatures\n",
    "\n",
    "Below are a few example functions from the `ecdsa` package.\n",
    "* Try to create and verify a signature for \"hello world!\". \n",
    "* Check that verification fails if you change the message.\n",
    "* Complete the verify function that recreates the public key, and verifies the signature inside a try escape clause, and returns **True** or **False**.\n",
    "* Optional: Can you write functions to convert the public key to hexadecimals, and back?"
   ]
  },
  {
   "cell_type": "code",
   "execution_count": 43,
   "id": "b0f7ff51",
   "metadata": {},
   "outputs": [
    {
     "name": "stdout",
     "output_type": "stream",
     "text": [
      "True\n",
      "True\n"
     ]
    }
   ],
   "source": [
    "from ecdsa import SigningKey, VerifyingKey\n",
    "\n",
    "# generate random secret key\n",
    "sk = SigningKey.generate() # uses NIST192p\n",
    "# get matching public key\n",
    "vk = sk.verifying_key\n",
    "# sign a messge\n",
    "signature = sk.sign(b\"message\")\n",
    "# verify message and print result\n",
    "print(vk.verify(signature, b\"message\"))\n",
    "# transfer public key into bytes string\n",
    "vkeystring = vk.to_string()\n",
    "# get back public key from bytes string\n",
    "vk2 = VerifyingKey.from_string(vkeystring)\n",
    "# verify again\n",
    "print(vk2.verify(signature, b\"message\"))"
   ]
  },
  {
   "cell_type": "code",
   "execution_count": 44,
   "id": "20a44bd0",
   "metadata": {},
   "outputs": [],
   "source": [
    "def verify(vkeystring, signature, messagestring):\n",
    "    # convert string to public key and verify signature\n",
    "    # use try except to catch all errors and return true or false\n",
    "    try:\n",
    "        vk = VerifyingKey.from_string(vkeystring)\n",
    "        vk.verify(signature, messagestring.encode())\n",
    "        print(\"verify success!\")\n",
    "        return True\n",
    "    except:\n",
    "        print(\"Could not verify signature\")\n",
    "    return False"
   ]
  },
  {
   "cell_type": "code",
   "execution_count": 45,
   "id": "85658c7d",
   "metadata": {},
   "outputs": [
    {
     "name": "stdout",
     "output_type": "stream",
     "text": [
      "verify success!\n"
     ]
    },
    {
     "data": {
      "text/plain": [
       "True"
      ]
     },
     "execution_count": 45,
     "metadata": {},
     "output_type": "execute_result"
    }
   ],
   "source": [
    "verify(vkeystring,signature,\"message\")"
   ]
  },
  {
   "cell_type": "markdown",
   "id": "3da56d2f",
   "metadata": {},
   "source": [
    "## Exercise 2: Accounts\n",
    "\n",
    "Below is a simple bak with account balances.\n",
    "* Check the pseudocode.\n",
    "* Run the examle below.\n",
    "* Update the bank with a counter, so the transfer is no longer vulnerable to reply."
   ]
  },
  {
   "cell_type": "code",
   "execution_count": 51,
   "id": "91ee7e28",
   "metadata": {},
   "outputs": [],
   "source": [
    "class Bank:\n",
    "    def __init__(self):\n",
    "        # A dictionary of accounts\n",
    "        self.accounts = {}\n",
    "        self.counter = {}\n",
    "    def deposit(self,key, value):\n",
    "        assert (value > 0)\n",
    "        if self.accounts.get(key,0) != 0:\n",
    "            self.accounts[key] += value\n",
    "        else:\n",
    "            self.accounts[key] = value\n",
    "    \n",
    "    def transfer(self, fromk, tok, value, cnt, sig):\n",
    "        assert (value > 0)\n",
    "        assert (self.accounts.get(fromk,0) >= value)\n",
    "        assert (verify(fromk,sig,str(tok) + str(value)+ str(cnt)))\n",
    "        assert (cnt == self.counter.get(fromk,0))\n",
    "        self.accounts[fromk] -= value\n",
    "        self.counter[fromk] = self.counter.get(fromk,0)+1\n",
    "        if self.accounts.get(tok,0) != 0:\n",
    "            self.accounts[tok] += value\n",
    "        else:\n",
    "            self.accounts[tok] = value\n",
    "        if self.accounts[fromk] == 0:\n",
    "            del self.accounts[fromk]"
   ]
  },
  {
   "cell_type": "code",
   "execution_count": 55,
   "id": "3ec24359",
   "metadata": {},
   "outputs": [
    {
     "name": "stdout",
     "output_type": "stream",
     "text": [
      "verify success!\n",
      "vk1 has balance 75\n",
      "vk2 has balance 125\n",
      "Not vulnerable to replay!\n"
     ]
    }
   ],
   "source": [
    "# create to secret and public keys\n",
    "sk1 = SigningKey.generate()\n",
    "sk2 = SigningKey.generate()\n",
    "vk1s = sk1.verifying_key.to_string()\n",
    "vk2s = sk2.verifying_key.to_string()\n",
    "\n",
    "\n",
    "# create bank and deposit\n",
    "bank = Bank()\n",
    "bank.deposit(vk1s, 100)\n",
    "bank.deposit(vk2s, 100)\n",
    "\n",
    "# create signature this depends on you you implement verification\n",
    "sig = sk1.sign((str(vk2s) + str(25) + str(0)).encode())\n",
    "\n",
    "# transfer money\n",
    "bank.transfer(vk1s, vk2s, 25,0, sig)\n",
    "\n",
    "# check new balances\n",
    "print(\"vk1 has balance {}\".format(bank.accounts[vk1s]))\n",
    "print(\"vk2 has balance {}\".format(bank.accounts[vk2s]))\n",
    "\n",
    "# after the transfer above goes through, it should not be possible to replay!\n",
    "try:\n",
    "    bank.transfer(vk1s, vk2s, 25,0, sig)\n",
    "    print(\"Vulnerable to replay attack!\")\n",
    "except:\n",
    "    print(\"Not vulnerable to replay!\")"
   ]
  },
  {
   "cell_type": "code",
   "execution_count": 48,
   "id": "3b68713f",
   "metadata": {},
   "outputs": [
    {
     "name": "stdout",
     "output_type": "stream",
     "text": [
      "vk1 has balance 50\n",
      "vk2 has balance 150\n"
     ]
    }
   ],
   "source": [
    "print(\"vk1 has balance {}\".format(bank.accounts[vk1s]))\n",
    "print(\"vk2 has balance {}\".format(bank.accounts[vk2s]))\n"
   ]
  },
  {
   "cell_type": "markdown",
   "id": "0ac05a9b",
   "metadata": {},
   "source": []
  },
  {
   "cell_type": "markdown",
   "id": "216a210c",
   "metadata": {},
   "source": [
    "## Exercise 3: UTXO\n",
    "Below is a stub for an UTXO based bank.\n",
    "The bank contains:\n",
    "* `utxo`: a dictionary with all unspent outputs.\n",
    "* `counter`: a counter used to create new ids for new outputs.\n",
    "\n",
    "An **output** is a touple `(value, key)` where\n",
    "* `value` is a number (the amount of money the output is worth.\n",
    "* `key` is a verifying (public) key that gives the owner of the output.\n",
    "\n",
    "The bank has methods\n",
    "* `deposit` to create a new output in the `utxo`, \n",
    "* `transferOne` to transfer the value from one output and \n",
    "* `transfer` to transfer the value from multiple outputs.\n",
    "\n",
    "### transfer one output\n",
    "Implement `transferOne` method that allows to transfer the value from one output to someone else.\n",
    "    The function has arguments:\n",
    "    * `input` a `(id, sig)` tuple. \n",
    "        - `id` is the key in the utxo map (counter value) \n",
    "        - `sig` is a signature with the public key stored in `utxo[id]`\n",
    "    * `output` a `(value, key)` tuple like in `deposit`\n",
    "    \n",
    "   You need to check the following:\n",
    "    * `utxo[id]` exists\n",
    "    * `sig` is correct. The message that should be signed must contain both `id` and `output`.\n",
    "    * `output[0]` the `value` is less or equal than the `value` in `utxo[id]`.\n",
    "        \n",
    "   If that is the case remove `id` from `utxo` and add `output` to `utxo`.\n",
    "   \n",
    "### transfer multiple outputs   \n",
    "Implement `transfer` which takes multipe `inputs` and creates multiple `outputs`.\n",
    "   Note that the different inputs must have a signature each.\n",
    "   All `id`s and `outputs` should be part of the signature."
   ]
  },
  {
   "cell_type": "code",
   "execution_count": 33,
   "id": "daa0a2c4",
   "metadata": {},
   "outputs": [],
   "source": [
    "class UTXOBank:\n",
    "    def __init__(self):\n",
    "        self.utxo ={}\n",
    "        self.counter = 0\n",
    "    def deposit(self, key, value):\n",
    "        self.utxo[self.counter]= (value,key)\n",
    "        self.counter += 1\n",
    "        \n",
    "    def transferOne(self, input, output):\n",
    "        \"\"\"This function takes one input and returns one output\n",
    "            * Input is a tuple (id, sig), where\n",
    "                * id is a key (counter) of the utxo dictionary\n",
    "                * sig is a signature with the key given in that dictionary\n",
    "            * Output is a tuple (value, key)\n",
    "            * The value of the new output must be less or equal to the value of the input\n",
    "            * Used output is removed from UTXO, new output is added.\n",
    "        \"\"\"\n",
    "        pass\n",
    "        \n",
    "    def transfer(self,inputs, outputs):\n",
    "        # inputs is a list of tuples (id, sig)\n",
    "        # outputs is a list of tupbles (value, key)\n",
    "        pass"
   ]
  },
  {
   "cell_type": "code",
   "execution_count": 42,
   "id": "62e9899d",
   "metadata": {},
   "outputs": [
    {
     "name": "stdout",
     "output_type": "stream",
     "text": [
      "verify success!\n",
      "verify success!\n",
      "1 (100,b'\\xe1\\xdc\\xfc\\xe0\\xfb\\xf9\\x19\\x83\\x86\\x83\\x15y\\xc9\\nuJ')\n",
      "3 (100,b'\\xc9\\x96Oq:,\\xdf\\n&\\xec\\xe8\\xa87\\xa7\\x88)')\n"
     ]
    }
   ],
   "source": [
    "# create to secret and public keys\n",
    "sk1 = SigningKey.generate()\n",
    "sk2 = SigningKey.generate()\n",
    "vk1s = sk1.verifying_key.to_string()\n",
    "vk2s = sk2.verifying_key.to_string()\n",
    "\n",
    "\n",
    "# create bank and deposit\n",
    "bank = UTXOBank()\n",
    "bank.deposit(vk1s, 100)\n",
    "bank.deposit(vk2s, 100)\n",
    "\n",
    "# create signature this depends on you you implement verification\n",
    "sig = sk1.sign((str(0) + str((100,vk2s))).encode())\n",
    "\n",
    "bank.transferOne((0,sig),(100,vk2s))\n",
    "#bank.transferOne((0,sig),(100,vk2s))\n",
    "\n",
    "for cnt, output in bank.utxo.items():\n",
    "    print(cnt, \"({},{})\".format(output[0], output[1][:16]))\n"
   ]
  }
 ],
 "metadata": {
  "kernelspec": {
   "display_name": "Python 3.7.2 64-bit",
   "language": "python",
   "name": "python3"
  },
  "language_info": {
   "codemirror_mode": {
    "name": "ipython",
    "version": 3
   },
   "file_extension": ".py",
   "mimetype": "text/x-python",
   "name": "python",
   "nbconvert_exporter": "python",
   "pygments_lexer": "ipython3",
   "version": "3.7.2"
  },
  "vscode": {
   "interpreter": {
    "hash": "aee8b7b246df8f9039afb4144a1f6fd8d2ca17a180786b69acc140d282b71a49"
   }
  }
 },
 "nbformat": 4,
 "nbformat_minor": 5
}
